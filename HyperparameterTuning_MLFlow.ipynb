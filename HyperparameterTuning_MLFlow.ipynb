{
  "nbformat": 4,
  "nbformat_minor": 0,
  "metadata": {
    "colab": {
      "name": "HyperparameterTuning_MLFlow.ipynb",
      "provenance": [],
      "collapsed_sections": []
    },
    "kernelspec": {
      "name": "python3",
      "display_name": "Python 3"
    },
    "accelerator": "GPU"
  },
  "cells": [
    {
      "cell_type": "code",
      "metadata": {
        "id": "QgkOEdC4oSl3",
        "colab_type": "code",
        "colab": {},
        "cellView": "code"
      },
      "source": [
        "#@title Default title text\n",
        "\n",
        "import torch\n",
        "import matplotlib.pyplot as plt\n",
        "import numpy as np\n",
        "import torchvision\n",
        "from torchvision import datasets,transforms\n",
        "import torch.nn as nn\n",
        "import torch.optim as optim\n",
        "import seaborn as sns\n",
        "import mlflow\n",
        "import mlflow.pytorch"
      ],
      "execution_count": 0,
      "outputs": []
    },
    {
      "cell_type": "markdown",
      "metadata": {
        "id": "a-KAdLuS3S5t",
        "colab_type": "text"
      },
      "source": [
        "#PARAMS\n"
      ]
    },
    {
      "cell_type": "code",
      "metadata": {
        "id": "77JRb3H129sJ",
        "colab_type": "code",
        "colab": {}
      },
      "source": [
        "class Params(object):\n",
        "    def __init__(self,batch_size,epochs,seed,log_interval):\n",
        "        self.batch_size=batch_size\n",
        "        self.epochs=epochs\n",
        "        self.seed=seed\n",
        "        self.log_interval=log_interval\n",
        "args=Params(256,4,0,20)"
      ],
      "execution_count": 0,
      "outputs": []
    },
    {
      "cell_type": "markdown",
      "metadata": {
        "id": "TV0JG7my3U81",
        "colab_type": "text"
      },
      "source": [
        "#DATASET\n"
      ]
    },
    {
      "cell_type": "code",
      "metadata": {
        "id": "1mxZlpwQ3WP9",
        "colab_type": "code",
        "colab": {
          "base_uri": "https://localhost:8080/",
          "height": 1000
        },
        "outputId": "412df363-e52e-4612-b19e-2f7571378eac"
      },
      "source": [
        "transform=transforms.Compose([\n",
        "    transforms.ToTensor(),\n",
        "    transforms.Normalize((0.1307,),(0.3081,))\n",
        "])\n",
        "\n",
        "trainset=datasets.MNIST('../data',train=True,download=True,transform=transform)\n",
        "testset=datasets.MNIST('../data',train=False,download=True,transform=transform)\n",
        "\n",
        "trainloader=torch.utils.data.DataLoader(trainset,shuffle=True,batch_size=args.batch_size)\n",
        "testloader=torch.utils.data.DataLoader(testset,shuffle=False,batch_size=args.batch_size)"
      ],
      "execution_count": 14,
      "outputs": [
        {
          "output_type": "stream",
          "text": [
            "Downloading http://yann.lecun.com/exdb/mnist/train-images-idx3-ubyte.gz to ../data\\MNIST\\raw\\train-images-idx3-ubyte.gz\n"
          ],
          "name": "stdout"
        },
        {
          "output_type": "stream",
          "text": [
            " 99%|█████████████████████████████████████████████████████████████████████████████▍| 9.84M/9.91M [00:44<00:00, 616kB/s]"
          ],
          "name": "stderr"
        },
        {
          "output_type": "stream",
          "text": [
            "Extracting ../data\\MNIST\\raw\\train-images-idx3-ubyte.gz\n",
            "Downloading http://yann.lecun.com/exdb/mnist/train-labels-idx1-ubyte.gz to ../data\\MNIST\\raw\\train-labels-idx1-ubyte.gz\n"
          ],
          "name": "stdout"
        },
        {
          "output_type": "stream",
          "text": [
            "\n",
            "0.00B [00:00, ?B/s]\n",
            "  0%|                                                                                      | 0.00/28.9k [00:01<?, ?B/s]\n",
            " 57%|███████████████████████████████████████████▋                                 | 16.4k/28.9k [00:01<00:00, 54.4kB/s]\n",
            "32.8kB [00:01, 22.4kB/s]                                                                                               "
          ],
          "name": "stderr"
        },
        {
          "output_type": "stream",
          "text": [
            "Extracting ../data\\MNIST\\raw\\train-labels-idx1-ubyte.gz\n",
            "Downloading http://yann.lecun.com/exdb/mnist/t10k-images-idx3-ubyte.gz to ../data\\MNIST\\raw\\t10k-images-idx3-ubyte.gz\n"
          ],
          "name": "stdout"
        },
        {
          "output_type": "stream",
          "text": [
            "\n",
            "0.00B [00:00, ?B/s]\n",
            "  0%|                                                                                      | 0.00/1.65M [00:00<?, ?B/s]\n",
            "  1%|▊                                                                            | 16.4k/1.65M [00:01<00:32, 50.6kB/s]\n",
            "  2%|█▌                                                                           | 32.8k/1.65M [00:01<00:30, 52.2kB/s]\n",
            "  3%|██▎                                                                          | 49.2k/1.65M [00:01<00:29, 54.6kB/s]\n",
            "  4%|███                                                                          | 65.5k/1.65M [00:01<00:28, 54.9kB/s]\n",
            "  5%|███▊                                                                         | 81.9k/1.65M [00:02<00:29, 52.7kB/s]\n",
            "  6%|████▌                                                                        | 98.3k/1.65M [00:02<00:23, 65.4kB/s]\n",
            "  6%|█████                                                                         | 106k/1.65M [00:02<00:29, 53.0kB/s]\n",
            "  7%|█████▊                                                                        | 123k/1.65M [00:02<00:29, 51.7kB/s]\n",
            "  8%|██████▌                                                                       | 139k/1.65M [00:03<00:28, 53.0kB/s]\n",
            " 10%|███████▊                                                                      | 164k/1.65M [00:03<00:24, 59.5kB/s]\n",
            " 11%|████████▉                                                                     | 188k/1.65M [00:03<00:22, 65.2kB/s]\n",
            " 13%|██████████                                                                    | 213k/1.65M [00:04<00:20, 70.6kB/s]\n",
            " 14%|███████████▏                                                                  | 238k/1.65M [00:04<00:18, 75.5kB/s]\n",
            " 16%|████████████▊                                                                 | 270k/1.65M [00:04<00:16, 84.5kB/s]\n",
            " 19%|██████████████▋                                                               | 311k/1.65M [00:04<00:13, 96.5kB/s]\n",
            " 21%|████████████████▍                                                              | 344k/1.65M [00:04<00:10, 122kB/s]\n",
            " 22%|█████████████████▋                                                             | 369k/1.65M [00:05<00:10, 122kB/s]\n",
            " 23%|██████████████████▍                                                            | 385k/1.65M [00:05<00:09, 130kB/s]\n",
            " 24%|███████████████████▏                                                           | 401k/1.65M [00:05<00:10, 121kB/s]\n",
            " 27%|█████████████████████▏                                                         | 442k/1.65M [00:05<00:08, 147kB/s]\n",
            " 28%|██████████████████████▎                                                        | 467k/1.65M [00:05<00:08, 147kB/s]\n",
            " 30%|███████████████████████▉                                                       | 500k/1.65M [00:05<00:06, 167kB/s]\n",
            " 32%|█████████████████████████                                                      | 524k/1.65M [00:06<00:06, 162kB/s]\n",
            " 34%|███████████████████████████                                                    | 565k/1.65M [00:06<00:05, 189kB/s]\n",
            " 36%|████████████████████████████▎                                                  | 590k/1.65M [00:06<00:06, 176kB/s]\n",
            " 39%|██████████████████████████████▌                                                | 639k/1.65M [00:06<00:04, 212kB/s]\n",
            " 41%|████████████████████████████████▏                                              | 672k/1.65M [00:06<00:04, 204kB/s]\n",
            " 45%|███████████████████████████████████▎                                           | 737k/1.65M [00:06<00:03, 252kB/s]\n",
            " 47%|█████████████████████████████████████▎                                         | 778k/1.65M [00:06<00:03, 237kB/s]\n",
            " 52%|████████████████████████████████████████▊                                      | 852k/1.65M [00:07<00:02, 276kB/s]\n",
            " 54%|██████████████████████████████████████████▊                                    | 893k/1.65M [00:07<00:02, 280kB/s]\n",
            " 58%|█████████████████████████████████████████████▉                                 | 958k/1.65M [00:07<00:02, 336kB/s]\n",
            " 61%|███████████████████████████████████████████████▋                              | 1.01M/1.65M [00:07<00:02, 318kB/s]\n",
            " 65%|██████████████████████████████████████████████████▍                           | 1.06M/1.65M [00:07<00:01, 366kB/s]\n",
            " 68%|████████████████████████████████████████████████████▋                         | 1.11M/1.65M [00:07<00:01, 395kB/s]\n",
            " 71%|███████████████████████████████████████████████████████▍                      | 1.17M/1.65M [00:07<00:01, 428kB/s]\n",
            " 75%|██████████████████████████████████████████████████████████▏                   | 1.23M/1.65M [00:07<00:00, 448kB/s]\n",
            " 78%|████████████████████████████████████████████████████████████▊                 | 1.29M/1.65M [00:08<00:00, 472kB/s]\n",
            " 82%|████████████████████████████████████████████████████████████████▎             | 1.36M/1.65M [00:08<00:00, 496kB/s]\n",
            " 87%|███████████████████████████████████████████████████████████████████▊          | 1.43M/1.65M [00:08<00:00, 538kB/s]\n",
            " 90%|██████████████████████████████████████████████████████████████████████▌       | 1.49M/1.65M [00:08<00:00, 536kB/s]\n",
            " 96%|██████████████████████████████████████████████████████████████████████████▊   | 1.58M/1.65M [00:08<00:00, 586kB/s]\n",
            "1.65MB [00:08, 625kB/s]                                                                                                "
          ],
          "name": "stderr"
        },
        {
          "output_type": "stream",
          "text": [
            "Extracting ../data\\MNIST\\raw\\t10k-images-idx3-ubyte.gz\n",
            "Downloading http://yann.lecun.com/exdb/mnist/t10k-labels-idx1-ubyte.gz to ../data\\MNIST\\raw\\t10k-labels-idx1-ubyte.gz\n"
          ],
          "name": "stdout"
        },
        {
          "output_type": "stream",
          "text": [
            "\n",
            "\n",
            "0.00B [00:00, ?B/s]\n",
            "\n",
            "  0%|                                                                                      | 0.00/4.54k [00:00<?, ?B/s]\n",
            "\n",
            "8.19kB [00:00, 8.49kB/s]                                                                                               "
          ],
          "name": "stderr"
        },
        {
          "output_type": "stream",
          "text": [
            "Extracting ../data\\MNIST\\raw\\t10k-labels-idx1-ubyte.gz\n",
            "Processing...\n",
            "Done!\n"
          ],
          "name": "stdout"
        }
      ]
    },
    {
      "cell_type": "markdown",
      "metadata": {
        "id": "wZng50B_4FqG",
        "colab_type": "text"
      },
      "source": [
        "#MODEL\n"
      ]
    },
    {
      "cell_type": "code",
      "metadata": {
        "id": "y0YIgjxH4HQi",
        "colab_type": "code",
        "colab": {}
      },
      "source": [
        "class Model(nn.Module):\n",
        "    def __init__(self,nH=32):\n",
        "        super(Model,self).__init__()\n",
        "        self.classifier=nn.Sequential(\n",
        "            nn.Linear(784,nH),\n",
        "            nn.ReLU(),\n",
        "            nn.Linear(nH,10)\n",
        "        )\n",
        "    \n",
        "    def forward(self,x):\n",
        "        x=x.view(x.size(0),-1)\n",
        "        x=self.classifier(x)\n",
        "        return x\n",
        "    "
      ],
      "execution_count": 0,
      "outputs": []
    },
    {
      "cell_type": "code",
      "metadata": {
        "id": "eQNKD4dC4n_O",
        "colab_type": "code",
        "colab": {}
      },
      "source": [
        "def train(epoch):\n",
        "    model.train()\n",
        "    \n",
        "    for batch_id,data in enumerate(trainloader):\n",
        "        inputs,labels=data\n",
        "        opt.zero_grad()\n",
        "        outputs=model(inputs)\n",
        "        loss=loss_fn(outputs,labels)\n",
        "        loss.backward()\n",
        "        opt.step()\n",
        "        \n",
        "        if batch_id % args.log_interval ==0:\n",
        "            pos=epoch* len(trainloader) + batch_id\n",
        "            mlflow.log_metric('train_loss',loss.data.itme()/len(inputs)*1000)"
      ],
      "execution_count": 0,
      "outputs": []
    }
  ]
}