{
  "nbformat": 4,
  "nbformat_minor": 0,
  "metadata": {
    "colab": {
      "name": "HyperparameterTuning_MLFlow.ipynb",
      "provenance": [],
      "collapsed_sections": []
    },
    "kernelspec": {
      "name": "python3",
      "display_name": "Python 3"
    },
    "accelerator": "GPU"
  },
  "cells": [
    {
      "cell_type": "code",
      "metadata": {
        "id": "QgkOEdC4oSl3",
        "colab_type": "code",
        "cellView": "code",
        "colab": {}
      },
      "source": [
        "#@title Default title text\n",
        "\n",
        "import torch\n",
        "import matplotlib.pyplot as plt\n",
        "import numpy as np\n",
        "import torchvision\n",
        "from torchvision import datasets,transforms\n",
        "import torch.nn as nn\n",
        "import torch.optim as optim\n",
        "import seaborn as sns\n",
        "import mlflow\n",
        "import mlflow.pytorch"
      ],
      "execution_count": 0,
      "outputs": []
    },
    {
      "cell_type": "markdown",
      "metadata": {
        "id": "a-KAdLuS3S5t",
        "colab_type": "text"
      },
      "source": [
        "#PARAMS\n"
      ]
    },
    {
      "cell_type": "code",
      "metadata": {
        "id": "77JRb3H129sJ",
        "colab_type": "code",
        "colab": {}
      },
      "source": [
        "class Params(object):\n",
        "    def __init__(self,batch_size,epochs,seed,log_interval):\n",
        "        self.batch_size=batch_size\n",
        "        self.epochs=epochs\n",
        "        self.seed=seed\n",
        "        self.log_interval=log_interval\n",
        "args=Params(256,4,0,20)"
      ],
      "execution_count": 0,
      "outputs": []
    },
    {
      "cell_type": "markdown",
      "metadata": {
        "id": "TV0JG7my3U81",
        "colab_type": "text"
      },
      "source": [
        "#DATASET\n"
      ]
    },
    {
      "cell_type": "code",
      "metadata": {
        "id": "1mxZlpwQ3WP9",
        "colab_type": "code",
        "colab": {}
      },
      "source": [
        "transform=transforms.Compose([\n",
        "    transforms.ToTensor(),\n",
        "    transforms.Normalize((0.1307,),(0.3081,))\n",
        "])\n",
        "\n",
        "trainset=datasets.MNIST('/Desktop/data',train=True,download=True,transform=transform)\n",
        "testset=datasets.MNIST('/Desktop/data',train=False,download=True,transform=transform)\n",
        "\n",
        "trainloader=torch.utils.data.DataLoader(trainset,shuffle=True,batch_size=args.batch_size)\n",
        "testloader=torch.utils.data.DataLoader(testset,shuffle=False,batch_size=args.batch_size)"
      ],
      "execution_count": 0,
      "outputs": []
    },
    {
      "cell_type": "markdown",
      "metadata": {
        "id": "wZng50B_4FqG",
        "colab_type": "text"
      },
      "source": [
        "#MODEL\n"
      ]
    },
    {
      "cell_type": "code",
      "metadata": {
        "id": "y0YIgjxH4HQi",
        "colab_type": "code",
        "colab": {}
      },
      "source": [
        "class Model(nn.Module):\n",
        "    def __init__(self,nH=32):\n",
        "        super(Model,self).__init__()\n",
        "        self.classifier=nn.Sequential(\n",
        "            nn.Linear(784,nH),\n",
        "            nn.ReLU(),\n",
        "            nn.Linear(nH,10)\n",
        "        )\n",
        "    \n",
        "    def forward(self,x):\n",
        "        x=x.view(x.size(0),-1)\n",
        "        x=self.classifier(x)\n",
        "        return x\n",
        "    "
      ],
      "execution_count": 0,
      "outputs": []
    },
    {
      "cell_type": "code",
      "metadata": {
        "id": "eQNKD4dC4n_O",
        "colab_type": "code",
        "colab": {}
      },
      "source": [
        "def train(epoch):\n",
        "    model.train()\n",
        "    \n",
        "    for batch_id,data in enumerate(trainloader):\n",
        "        inputs,labels=data\n",
        "        opt.zero_grad()\n",
        "        outputs=model(inputs)\n",
        "        loss=loss_fn(outputs,labels)\n",
        "        loss.backward()\n",
        "        opt.step()\n",
        "        \n",
        "        if batch_id % args.log_interval ==0:\n",
        "            pos=epoch* len(trainloader) + batch_id\n",
        "            mlflow.log_metric('train_loss',loss.data.item()/len(inputs)*1000)\n",
        "            \n",
        "            print('Train Epoch: {} [{}/{} ( {:0.2f} % )] \\t Loss : {:.3f}'.format(\n",
        "            epoch,batch_id * len(inputs),len(trainloader.dataset),100.*batch_id/len(trainloader),loss.data.item()))"
      ],
      "execution_count": 0,
      "outputs": []
    },
    {
      "cell_type": "code",
      "metadata": {
        "id": "5cGeaJ4s8urJ",
        "colab_type": "code",
        "colab": {}
      },
      "source": [
        "def test(epoch):\n",
        "    model.eval()\n",
        "    test_loss=0\n",
        "    correct=0\n",
        "    confusion_matrix=np.zeros([10,10])\n",
        "    \n",
        "    with torch.no_grad():\n",
        "        for inputs,labels in testloader:\n",
        "            outputs=model(inputs)\n",
        "            test_loss+=loss_fn(outputs,labels).data.item()\n",
        "            pred=outputs.data.max(1)[1]\n",
        "            correct +=pred.eq(labels.data).sum().item()\n",
        "            \n",
        "            for x,y, in zip(pred.numpy(),labels.numpy()):\n",
        "                confusion_matrix[x][y] +=1\n",
        "        test_loss /=len(testloader.dataset)\n",
        "        test_accuracy=100.0 * correct/len(testloader.dataset)\n",
        "        \n",
        "        pos=(epoch+1)*len(trainloader)\n",
        "        mlflow.log_metric('test_loss',test_loss*1000)\n",
        "        mlflow.log_metric('test accuracy',test_accuracy)\n",
        "        \n",
        "        print(\"\\n Test Set: Average Loss: {:.4f}, Accuracy : {}/{} ({:.0f}%\\n\".format(test_loss,correct,len(testloader.dataset),test_accuracy))\n",
        "        \n",
        "        \n",
        "        if epoch==args.epochs:\n",
        "            classes=np.arange(10)\n",
        "            fig,ax=plt.subplots()\n",
        "            im=ax.imshow(confusion_matrix,interpolation='nearest',cmap=plt.cm.Blues)\n",
        "            ax.figure.colorbar(im,ax=ax)\n",
        "            ax.set(xticks=np.arange(confusion_matrix.shape[1]),\n",
        "                                    yticks=np.arange(confusion_matrix.shape[0]),\n",
        "                                                    xticklabels=classes,yticklabels=classes,\n",
        "                                                    ylabel='True Label',\n",
        "                                                    xlabel='Predicted Label',\n",
        "                                                    title=\"Epoch %d\"% epoch)\n",
        "            thres = confusion_matrix.max() /2\n",
        "            for i in range(confusion_matrix.shape[0]):\n",
        "                for j in range(confusion_matrix.shape[1]):\n",
        "                   ax.text(j,i,int(confusion_matrix[i,j]),ha=\"center\",va=\"center\",color=\"white\" if confusion_matrix[i,j] > thres else \"black\")\n",
        "            fig.tight_layout()\n",
        "            image_path=\"%s.png\" % (expt_id)\n",
        "            plt.savefig(image_path)\n",
        "            mlflow.log_artifact(image_path)"
      ],
      "execution_count": 0,
      "outputs": []
    },
    {
      "cell_type": "markdown",
      "metadata": {
        "id": "XLnUjexKqr24",
        "colab_type": "text"
      },
      "source": [
        "#MLFLOW Hyper Parameter Tuning\n",
        "\n"
      ]
    },
    {
      "cell_type": "code",
      "metadata": {
        "id": "lflwGmepq86r",
        "colab_type": "code",
        "colab": {
          "base_uri": "https://localhost:8080/",
          "height": 1000
        },
        "outputId": "487550ac-b036-4b67-a614-610324ed2048"
      },
      "source": [
        "#expt_id=mlflow.create_experiment('Fixed nH')\n",
        "mlflow.set_experiment('Fixed NH')\n",
        "for lr in [0.01]:\n",
        "    for momemtum in [0.9]:\n",
        "        for hidden_nodes in [16,32,48]:\n",
        "            \n",
        "            expt_id='%d_%d_%d' % (int(lr*100),int(momemtum*100),hidden_nodes)\n",
        "            \n",
        "            print(\"\\n LR= %.2f, Momemtum =%.2f , Hidden nodes = %.2f\" % (lr,momemtum,hidden_nodes))\n",
        "            \n",
        "            model=Model(hidden_nodes)\n",
        "            loss_fn=nn.CrossEntropyLoss()\n",
        "            opt=optim.SGD(model.parameters(),lr=lr,momentum=momemtum)\n",
        "            \n",
        "            with mlflow.start_run() as run:\n",
        "                for key,value in vars(args).items():\n",
        "                    mlflow.log_param(key,value)\n",
        "                mlflow.log_param('lr',lr)\n",
        "                mlflow.log_param('momemtum',momemtum)\n",
        "                mlflow.log_param('Hidden_nodes',hidden_nodes)\n",
        "                \n",
        "                for epoch in range(1,args.epochs+1):\n",
        "                    train(epoch)\n",
        "                    test(epoch)\n",
        "                    mlflow.pytorch.log_model(model,\"models\")\n",
        "                "
      ],
      "execution_count": 0,
      "outputs": [
        {
          "output_type": "stream",
          "text": [
            "\n",
            " LR= 0.01, Momemtum =0.90 , Hidden nodes = 16.00\n",
            "Train Epoch: 1 [0/60000 ( 0.00 % )] \t Loss : 2.374\n",
            "Train Epoch: 1 [5120/60000 ( 8.51 % )] \t Loss : 1.445\n",
            "Train Epoch: 1 [10240/60000 ( 17.02 % )] \t Loss : 0.500\n",
            "Train Epoch: 1 [15360/60000 ( 25.53 % )] \t Loss : 0.384\n",
            "Train Epoch: 1 [20480/60000 ( 34.04 % )] \t Loss : 0.406\n",
            "Train Epoch: 1 [25600/60000 ( 42.55 % )] \t Loss : 0.411\n",
            "Train Epoch: 1 [30720/60000 ( 51.06 % )] \t Loss : 0.288\n",
            "Train Epoch: 1 [35840/60000 ( 59.57 % )] \t Loss : 0.388\n",
            "Train Epoch: 1 [40960/60000 ( 68.09 % )] \t Loss : 0.334\n",
            "Train Epoch: 1 [46080/60000 ( 76.60 % )] \t Loss : 0.334\n",
            "Train Epoch: 1 [51200/60000 ( 85.11 % )] \t Loss : 0.271\n",
            "Train Epoch: 1 [56320/60000 ( 93.62 % )] \t Loss : 0.296\n",
            "\n",
            " Test Set: Average Loss: 0.0011, Accuracy : 9218/10000 (92%\n",
            "\n"
          ],
          "name": "stdout"
        },
        {
          "output_type": "stream",
          "text": [
            "C:\\ProgramData\\Anaconda3\\lib\\site-packages\\torch\\serialization.py:256: UserWarning: Couldn't retrieve source code for container of type Model. It won't be checked for correctness upon loading.\n",
            "  \"type \" + obj.__name__ + \". It won't be checked \"\n"
          ],
          "name": "stderr"
        },
        {
          "output_type": "stream",
          "text": [
            "Train Epoch: 2 [0/60000 ( 0.00 % )] \t Loss : 0.288\n",
            "Train Epoch: 2 [5120/60000 ( 8.51 % )] \t Loss : 0.314\n",
            "Train Epoch: 2 [10240/60000 ( 17.02 % )] \t Loss : 0.292\n",
            "Train Epoch: 2 [15360/60000 ( 25.53 % )] \t Loss : 0.202\n",
            "Train Epoch: 2 [20480/60000 ( 34.04 % )] \t Loss : 0.234\n",
            "Train Epoch: 2 [25600/60000 ( 42.55 % )] \t Loss : 0.199\n",
            "Train Epoch: 2 [30720/60000 ( 51.06 % )] \t Loss : 0.177\n",
            "Train Epoch: 2 [35840/60000 ( 59.57 % )] \t Loss : 0.221\n",
            "Train Epoch: 2 [40960/60000 ( 68.09 % )] \t Loss : 0.197\n",
            "Train Epoch: 2 [46080/60000 ( 76.60 % )] \t Loss : 0.186\n",
            "Train Epoch: 2 [51200/60000 ( 85.11 % )] \t Loss : 0.322\n",
            "Train Epoch: 2 [56320/60000 ( 93.62 % )] \t Loss : 0.200\n",
            "\n",
            " Test Set: Average Loss: 0.0009, Accuracy : 9353/10000 (94%\n",
            "\n"
          ],
          "name": "stdout"
        },
        {
          "output_type": "stream",
          "text": [
            "C:\\ProgramData\\Anaconda3\\lib\\site-packages\\torch\\serialization.py:256: UserWarning: Couldn't retrieve source code for container of type Model. It won't be checked for correctness upon loading.\n",
            "  \"type \" + obj.__name__ + \". It won't be checked \"\n"
          ],
          "name": "stderr"
        },
        {
          "output_type": "stream",
          "text": [
            "Train Epoch: 3 [0/60000 ( 0.00 % )] \t Loss : 0.195\n",
            "Train Epoch: 3 [5120/60000 ( 8.51 % )] \t Loss : 0.186\n",
            "Train Epoch: 3 [10240/60000 ( 17.02 % )] \t Loss : 0.263\n",
            "Train Epoch: 3 [15360/60000 ( 25.53 % )] \t Loss : 0.270\n",
            "Train Epoch: 3 [20480/60000 ( 34.04 % )] \t Loss : 0.125\n",
            "Train Epoch: 3 [25600/60000 ( 42.55 % )] \t Loss : 0.274\n",
            "Train Epoch: 3 [30720/60000 ( 51.06 % )] \t Loss : 0.215\n",
            "Train Epoch: 3 [35840/60000 ( 59.57 % )] \t Loss : 0.232\n",
            "Train Epoch: 3 [40960/60000 ( 68.09 % )] \t Loss : 0.255\n",
            "Train Epoch: 3 [46080/60000 ( 76.60 % )] \t Loss : 0.195\n",
            "Train Epoch: 3 [51200/60000 ( 85.11 % )] \t Loss : 0.231\n",
            "Train Epoch: 3 [56320/60000 ( 93.62 % )] \t Loss : 0.347\n",
            "\n",
            " Test Set: Average Loss: 0.0008, Accuracy : 9406/10000 (94%\n",
            "\n"
          ],
          "name": "stdout"
        },
        {
          "output_type": "stream",
          "text": [
            "C:\\ProgramData\\Anaconda3\\lib\\site-packages\\torch\\serialization.py:256: UserWarning: Couldn't retrieve source code for container of type Model. It won't be checked for correctness upon loading.\n",
            "  \"type \" + obj.__name__ + \". It won't be checked \"\n"
          ],
          "name": "stderr"
        },
        {
          "output_type": "stream",
          "text": [
            "Train Epoch: 4 [0/60000 ( 0.00 % )] \t Loss : 0.207\n",
            "Train Epoch: 4 [5120/60000 ( 8.51 % )] \t Loss : 0.187\n",
            "Train Epoch: 4 [10240/60000 ( 17.02 % )] \t Loss : 0.138\n",
            "Train Epoch: 4 [15360/60000 ( 25.53 % )] \t Loss : 0.220\n",
            "Train Epoch: 4 [20480/60000 ( 34.04 % )] \t Loss : 0.162\n",
            "Train Epoch: 4 [25600/60000 ( 42.55 % )] \t Loss : 0.180\n",
            "Train Epoch: 4 [30720/60000 ( 51.06 % )] \t Loss : 0.099\n",
            "Train Epoch: 4 [35840/60000 ( 59.57 % )] \t Loss : 0.310\n",
            "Train Epoch: 4 [40960/60000 ( 68.09 % )] \t Loss : 0.217\n",
            "Train Epoch: 4 [46080/60000 ( 76.60 % )] \t Loss : 0.183\n",
            "Train Epoch: 4 [51200/60000 ( 85.11 % )] \t Loss : 0.179\n",
            "Train Epoch: 4 [56320/60000 ( 93.62 % )] \t Loss : 0.247\n",
            "\n",
            " Test Set: Average Loss: 0.0008, Accuracy : 9424/10000 (94%\n",
            "\n"
          ],
          "name": "stdout"
        },
        {
          "output_type": "stream",
          "text": [
            "C:\\ProgramData\\Anaconda3\\lib\\site-packages\\torch\\serialization.py:256: UserWarning: Couldn't retrieve source code for container of type Model. It won't be checked for correctness upon loading.\n",
            "  \"type \" + obj.__name__ + \". It won't be checked \"\n"
          ],
          "name": "stderr"
        },
        {
          "output_type": "stream",
          "text": [
            "\n",
            " LR= 0.01, Momemtum =0.90 , Hidden nodes = 32.00\n",
            "Train Epoch: 1 [0/60000 ( 0.00 % )] \t Loss : 2.356\n",
            "Train Epoch: 1 [5120/60000 ( 8.51 % )] \t Loss : 1.278\n",
            "Train Epoch: 1 [10240/60000 ( 17.02 % )] \t Loss : 0.553\n",
            "Train Epoch: 1 [15360/60000 ( 25.53 % )] \t Loss : 0.461\n",
            "Train Epoch: 1 [20480/60000 ( 34.04 % )] \t Loss : 0.358\n",
            "Train Epoch: 1 [25600/60000 ( 42.55 % )] \t Loss : 0.348\n",
            "Train Epoch: 1 [30720/60000 ( 51.06 % )] \t Loss : 0.366\n",
            "Train Epoch: 1 [35840/60000 ( 59.57 % )] \t Loss : 0.336\n",
            "Train Epoch: 1 [40960/60000 ( 68.09 % )] \t Loss : 0.327\n",
            "Train Epoch: 1 [46080/60000 ( 76.60 % )] \t Loss : 0.284\n",
            "Train Epoch: 1 [51200/60000 ( 85.11 % )] \t Loss : 0.362\n",
            "Train Epoch: 1 [56320/60000 ( 93.62 % )] \t Loss : 0.287\n",
            "\n",
            " Test Set: Average Loss: 0.0011, Accuracy : 9247/10000 (92%\n",
            "\n"
          ],
          "name": "stdout"
        },
        {
          "output_type": "stream",
          "text": [
            "C:\\ProgramData\\Anaconda3\\lib\\site-packages\\torch\\serialization.py:256: UserWarning: Couldn't retrieve source code for container of type Model. It won't be checked for correctness upon loading.\n",
            "  \"type \" + obj.__name__ + \". It won't be checked \"\n"
          ],
          "name": "stderr"
        },
        {
          "output_type": "stream",
          "text": [
            "Train Epoch: 2 [0/60000 ( 0.00 % )] \t Loss : 0.371\n",
            "Train Epoch: 2 [5120/60000 ( 8.51 % )] \t Loss : 0.200\n",
            "Train Epoch: 2 [10240/60000 ( 17.02 % )] \t Loss : 0.272\n",
            "Train Epoch: 2 [15360/60000 ( 25.53 % )] \t Loss : 0.266\n",
            "Train Epoch: 2 [20480/60000 ( 34.04 % )] \t Loss : 0.287\n",
            "Train Epoch: 2 [25600/60000 ( 42.55 % )] \t Loss : 0.264\n",
            "Train Epoch: 2 [30720/60000 ( 51.06 % )] \t Loss : 0.292\n",
            "Train Epoch: 2 [35840/60000 ( 59.57 % )] \t Loss : 0.173\n",
            "Train Epoch: 2 [40960/60000 ( 68.09 % )] \t Loss : 0.226\n",
            "Train Epoch: 2 [46080/60000 ( 76.60 % )] \t Loss : 0.220\n",
            "Train Epoch: 2 [51200/60000 ( 85.11 % )] \t Loss : 0.246\n",
            "Train Epoch: 2 [56320/60000 ( 93.62 % )] \t Loss : 0.194\n",
            "\n",
            " Test Set: Average Loss: 0.0008, Accuracy : 9392/10000 (94%\n",
            "\n"
          ],
          "name": "stdout"
        },
        {
          "output_type": "stream",
          "text": [
            "C:\\ProgramData\\Anaconda3\\lib\\site-packages\\torch\\serialization.py:256: UserWarning: Couldn't retrieve source code for container of type Model. It won't be checked for correctness upon loading.\n",
            "  \"type \" + obj.__name__ + \". It won't be checked \"\n"
          ],
          "name": "stderr"
        },
        {
          "output_type": "stream",
          "text": [
            "Train Epoch: 3 [0/60000 ( 0.00 % )] \t Loss : 0.307\n",
            "Train Epoch: 3 [5120/60000 ( 8.51 % )] \t Loss : 0.206\n",
            "Train Epoch: 3 [10240/60000 ( 17.02 % )] \t Loss : 0.206\n",
            "Train Epoch: 3 [15360/60000 ( 25.53 % )] \t Loss : 0.264\n",
            "Train Epoch: 3 [20480/60000 ( 34.04 % )] \t Loss : 0.199\n",
            "Train Epoch: 3 [25600/60000 ( 42.55 % )] \t Loss : 0.233\n",
            "Train Epoch: 3 [30720/60000 ( 51.06 % )] \t Loss : 0.175\n",
            "Train Epoch: 3 [35840/60000 ( 59.57 % )] \t Loss : 0.158\n",
            "Train Epoch: 3 [40960/60000 ( 68.09 % )] \t Loss : 0.211\n",
            "Train Epoch: 3 [46080/60000 ( 76.60 % )] \t Loss : 0.161\n",
            "Train Epoch: 3 [51200/60000 ( 85.11 % )] \t Loss : 0.164\n",
            "Train Epoch: 3 [56320/60000 ( 93.62 % )] \t Loss : 0.185\n",
            "\n",
            " Test Set: Average Loss: 0.0007, Accuracy : 9460/10000 (95%\n",
            "\n"
          ],
          "name": "stdout"
        },
        {
          "output_type": "stream",
          "text": [
            "C:\\ProgramData\\Anaconda3\\lib\\site-packages\\torch\\serialization.py:256: UserWarning: Couldn't retrieve source code for container of type Model. It won't be checked for correctness upon loading.\n",
            "  \"type \" + obj.__name__ + \". It won't be checked \"\n"
          ],
          "name": "stderr"
        },
        {
          "output_type": "stream",
          "text": [
            "Train Epoch: 4 [0/60000 ( 0.00 % )] \t Loss : 0.129\n",
            "Train Epoch: 4 [5120/60000 ( 8.51 % )] \t Loss : 0.203\n",
            "Train Epoch: 4 [10240/60000 ( 17.02 % )] \t Loss : 0.162\n",
            "Train Epoch: 4 [15360/60000 ( 25.53 % )] \t Loss : 0.186\n",
            "Train Epoch: 4 [20480/60000 ( 34.04 % )] \t Loss : 0.210\n",
            "Train Epoch: 4 [25600/60000 ( 42.55 % )] \t Loss : 0.142\n",
            "Train Epoch: 4 [30720/60000 ( 51.06 % )] \t Loss : 0.294\n",
            "Train Epoch: 4 [35840/60000 ( 59.57 % )] \t Loss : 0.202\n",
            "Train Epoch: 4 [40960/60000 ( 68.09 % )] \t Loss : 0.187\n",
            "Train Epoch: 4 [46080/60000 ( 76.60 % )] \t Loss : 0.130\n"
          ],
          "name": "stdout"
        }
      ]
    }
  ]
}